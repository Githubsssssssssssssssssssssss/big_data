{
 "cells": [
  {
   "cell_type": "markdown",
   "id": "0e6bb401-aeff-47b1-ab6b-9ae027441eba",
   "metadata": {},
   "source": [
    "### **Contexte et Justification de l'Étude**"
   ]
  },
  {
   "cell_type": "markdown",
   "id": "c3eb804a-d556-4ed2-b639-66bf436b508e",
   "metadata": {},
   "source": [
    "Dans un monde de plus en plus connecté, la qualité de la connexion internet est un facteur déterminant pour les activités numériques quotidiennes, qu'il s'agisse de navigation, de streaming, de travail collaboratif ou de transactions en ligne. Les serveurs DNS (Domain Name System) jouent un rôle central dans ce processus en traduisant les noms de domaine en adresses IP compréhensibles par les machines, facilitant ainsi l'accès aux ressources en ligne. Parmi les serveurs DNS les plus utilisés figure le serveur DNS public de Google (8.8.8.8), connu pour sa fiabilité et ses performances.\n",
    "Dans le cadre de cette étude, des requêtes ICMP (Internet Control Message Protocol) ont été envoyées au serveur DNS de Google pour collecter des données de latence entre 9:23:12 et 7:40:13 du jour d'après en mois de janvier. Ces échanges permettent de mesurer des indicateurs clés tels que le temps de latence, la variabilité des temps de réponse, et le taux de perte de paquets. Ces variables sont essentielles pour évaluer la performance de la connexion internet publique, car elles reflètent directement la rapidité et la stabilité du réseau.\n"
   ]
  },
  {
   "cell_type": "markdown",
   "id": "d56364bb-62c0-4c61-bffb-4ae41d7fd5d4",
   "metadata": {},
   "source": [
    "### **Problématique** \n"
   ]
  },
  {
   "cell_type": "markdown",
   "id": "f7655915-d9b9-47f7-82d3-7de15ba9ef72",
   "metadata": {},
   "source": [
    "Le serveur DNS public de Google, pivot dans la traduction des noms de domaine en adresses IP, joue un rôle critique dans l'expérience utilisateur. Cependant, des fluctuations de latence, des pertes de paquets ou des anomalies peuvent perturber cette fluidité. La problématique réside donc dans la capacité à diagnostiquer et analyser ces paramètres pour comprendre l’état réel de la connexion publique et identifier d’éventuels goulots d’étranglement. Cette analyse est cruciale pour améliorer les performances réseau, optimiser l’expérience utilisateur et anticiper les besoins d’infrastructure."
   ]
  },
  {
   "cell_type": "markdown",
   "id": "7ed44883-f07c-43b8-a49b-776c0f00e6d5",
   "metadata": {},
   "source": [
    "## Importation de la session spark"
   ]
  },
  {
   "cell_type": "code",
   "execution_count": 1,
   "id": "c820a0ad-d816-4834-8699-93e0527c421c",
   "metadata": {},
   "outputs": [],
   "source": [
    "from pyspark.sql import SparkSession"
   ]
  },
  {
   "cell_type": "markdown",
   "id": "70b72cdd-7f78-4c69-9f39-84546251b28b",
   "metadata": {},
   "source": [
    "# **I. Présentation des données**"
   ]
  },
  {
   "cell_type": "markdown",
   "id": "a6afbb70-47cf-4f1b-8baf-717bf6b2ab0d",
   "metadata": {},
   "source": [
    "## **I.1. Description des données collectées**\n",
    "\n"
   ]
  },
  {
   "cell_type": "markdown",
   "id": "a5b86812-e8c3-4a37-a840-ef4336cadec3",
   "metadata": {},
   "source": [
    "\n",
    "La collecte des données a été déclenché à 9h23min12s et a pris fin le lendemain à 07h40min13s. ​ **(il suffit de d'ajouter à l'heure de départ la durée d'exécution du code qui a valu 80221 secondes, voir la dernière valeur de la variable \"icmp_seq\")** , il s'agit des données obtenu par exécution du code ping 8.8.8.8, \n",
    "qui a fait usage de requêtes ICMP envoyées au serveur DNS public de Google (8.8.8.8). Les échos reply reçus en réponse aux requêtes request permettent d'analyser plusieurs variables enregistrées au cours de cette période, parmi lesquels on a : le temps de latence, la variabilité des temps de réponse, et le taux de perte de paquets.\n"
   ]
  },
  {
   "cell_type": "code",
   "execution_count": 4,
   "id": "779867df-adfa-4bcc-b85f-6d0c8187908e",
   "metadata": {
    "scrolled": true
   },
   "outputs": [
    {
     "name": "stdout",
     "output_type": "stream",
     "text": [
      "+--------------------+-----+--------+---+----+\n",
      "|               value|bytes|icmp_seq|ttl|time|\n",
      "+--------------------+-----+--------+---+----+\n",
      "|Last login: Fri J...|     |        |   |NULL|\n",
      "|serge-nd@MacBook-...|     |        |   |NULL|\n",
      "+--------------------+-----+--------+---+----+\n",
      "only showing top 2 rows\n",
      "\n"
     ]
    }
   ],
   "source": [
    "# Créer une session Spark\n",
    "spark = SparkSession.builder.appName(\"Logs\").getOrCreate()\n",
    "from pyspark.sql.functions import regexp_extract, col\n",
    "\n",
    "# Chemin d'accès d'importation\n",
    "path = \"Dataset - Projet 3 copy.txt\"\n",
    "df = spark.read.text(path)\n",
    "\n",
    "# Extraction des variables pertinentes\n",
    "data = df.withColumn(\"bytes\", regexp_extract(col(\"value\"), r\"(\\d+) bytes\", 1)) \\\n",
    "               .withColumn(\"icmp_seq\", regexp_extract(col(\"value\"), r\"icmp_seq=(\\d+)\", 1)) \\\n",
    "               .withColumn(\"ttl\", regexp_extract(col(\"value\"), r\"ttl=(\\d+)\", 1)) \\\n",
    "               .withColumn(\"time\", regexp_extract(col(\"value\"), r\"time=(\\d+\\.?\\d*)\", 1).cast(\"float\"))\n",
    "\n",
    "# Affichage des données extraites\n",
    "data.show(2)\n",
    "\n"
   ]
  },
  {
   "cell_type": "markdown",
   "id": "63e06aec-2e13-475a-8281-0ca30cf384cc",
   "metadata": {},
   "source": [
    "## **I.2. Préparation des données**"
   ]
  },
  {
   "cell_type": "markdown",
   "id": "5a68e57e-d5df-4d2d-95e6-9ba836f40527",
   "metadata": {},
   "source": [
    "Cette partie consiste au nettoyage des données, notamment la gestion des valeurs manquantes et la préparation de la base finale qui servira aux analyses nécessaires pour cette étude. on commence par compter le nombre de où time est sans réponse"
   ]
  },
  {
   "cell_type": "code",
   "execution_count": 13,
   "id": "3d5f5768-d081-46cb-9ae3-aecfe1517d52",
   "metadata": {},
   "outputs": [
    {
     "name": "stdout",
     "output_type": "stream",
     "text": [
      "Nombre de lignes où 'time' est vide : 14500\n",
      "Nombre de lignes où 'time' est non vide : 65722\n",
      "80222\n"
     ]
    }
   ],
   "source": [
    "# Décompte du nombre de lignes où \"time\" est null\n",
    "vid1=data.filter(col(\"time\").isNull()).count()\n",
    "print(f\"Nombre de lignes où 'time' est vide : {vid1}\")\n",
    "vid2=data.filter(col(\"time\").isNotNull()).count()\n",
    "print(f\"Nombre de lignes où 'time' est non vide : {vid2}\")\n",
    "vid=vid1+vid2\n",
    "print(vid)"
   ]
  },
  {
   "cell_type": "markdown",
   "id": "d000096d-cdfb-4e52-92f6-3653417c43a7",
   "metadata": {},
   "source": [
    "Il y a au total 14500 ICMP qui n'ont pas de réponse, nous allons les dissocier de la base afin de effectuer nos analyses"
   ]
  },
  {
   "cell_type": "code",
   "execution_count": 15,
   "id": "da85e9ae-9b5d-4a8b-9967-1ad71aa6a853",
   "metadata": {},
   "outputs": [
    {
     "name": "stdout",
     "output_type": "stream",
     "text": [
      "+-------+------------------+------------------+------------------+\n",
      "|summary|              time|               ttl|          icmp_seq|\n",
      "+-------+------------------+------------------+------------------+\n",
      "|  count|             65722|             65722|             65722|\n",
      "|   mean| 634.9307137911842|112.53330695961779| 17443.58853960622|\n",
      "| stddev|15968.919069160678| 3.118295284174786|14289.437765940938|\n",
      "|    min|            35.597|               100|                 0|\n",
      "|    max|          927118.7|               114|              9999|\n",
      "+-------+------------------+------------------+------------------+\n",
      "\n"
     ]
    }
   ],
   "source": [
    "# Filtrer les lignes valides (où \"time\" n'est pas null)\n",
    "non_vide = data.filter(col(\"time\").isNotNull())\n",
    "\n",
    "# résumé statistique des données nettoyées\n",
    "non_vide.describe([\"time\", \"ttl\", \"icmp_seq\"]).show()"
   ]
  },
  {
   "cell_type": "markdown",
   "id": "9a71a3f2-7c33-4fb3-9402-4260bcf1bdd7",
   "metadata": {},
   "source": [
    "# **II. Analyse Descriptive des Performances**"
   ]
  },
  {
   "cell_type": "markdown",
   "id": "264dd98a-d340-4a01-a70a-9278274fb20f",
   "metadata": {},
   "source": [
    "## **II.1. Statistiques globales**"
   ]
  },
  {
   "cell_type": "code",
   "execution_count": 18,
   "id": "02765270-4838-41da-8f5b-238d3035c1e0",
   "metadata": {},
   "outputs": [
    {
     "name": "stdout",
     "output_type": "stream",
     "text": [
      "+-----------------+-----------+-----------+------------------+\n",
      "|      latence_moy|latence_min|latence_max|ecart_type_latence|\n",
      "+-----------------+-----------+-----------+------------------+\n",
      "|634.9307137911842|     35.597|   927118.7|15968.919069160678|\n",
      "+-----------------+-----------+-----------+------------------+\n",
      "\n"
     ]
    }
   ],
   "source": [
    "from pyspark.sql.functions import avg, min, max, stddev\n",
    "\n",
    "# Calcul des statistiques descriptives de la variable \"time\"\n",
    "desc1 = non_vide.select(\n",
    "    avg(\"time\").alias(\"latence_moy\"),\n",
    "    min(\"time\").alias(\"latence_min\"),\n",
    "    max(\"time\").alias(\"latence_max\"),\n",
    "    stddev(\"time\").alias(\"ecart_type_latence\")\n",
    ")\n",
    "\n",
    "desc1.show()\n"
   ]
  },
  {
   "cell_type": "markdown",
   "id": "d725be9c-96d6-46d7-9a10-63395911fbda",
   "metadata": {},
   "source": [
    "**Ce tableau montre qu'en ce vendredi janvier 2025, dans la tranche de 9h à 15h au lendemain à 07h40min13s​, il fallait en moyenne attendre 634.93 ms  pour obtenir une reponse afin d'accéder à un site internet, la valeur très grande de l'étendue (max-min) suggère une connexion internet très instable au cours de cette période. Cette instabilité semble se confirmer par un écart-type de 15968.92 ms.**\n"
   ]
  },
  {
   "cell_type": "code",
   "execution_count": 20,
   "id": "57575fcc-76b5-4a86-b5ff-1a689ece9e33",
   "metadata": {},
   "outputs": [
    {
     "name": "stdout",
     "output_type": "stream",
     "text": [
      "+------------------+---------+---------+-----------------+\n",
      "|         Sauts_moy|Sauts_min|Sauts_max| ecart_type_Sauts|\n",
      "+------------------+---------+---------+-----------------+\n",
      "|112.53330695961779|      100|      114|3.118295284174786|\n",
      "+------------------+---------+---------+-----------------+\n",
      "\n"
     ]
    }
   ],
   "source": [
    "# Calcul des statistiques descriptives de la variable \"ttl\"\n",
    "desc2 = non_vide.select(\n",
    "    avg(\"ttl\").alias(\"Sauts_moy\"),\n",
    "    min(\"ttl\").alias(\"Sauts_min\"),\n",
    "    max(\"ttl\").alias(\"Sauts_max\"),\n",
    "    stddev(\"ttl\").alias(\"ecart_type_Sauts\")\n",
    ")\n",
    "\n",
    "desc2.show()\n"
   ]
  },
  {
   "cell_type": "markdown",
   "id": "482b5c3b-787a-48b3-ad5e-2aca51d0dfb6",
   "metadata": {},
   "source": [
    "**Se situant toujours dans cette période, Il fallait en moyenne 112,53 sauts (routeurs)  pour que la requête atteigne Google DSN (avant d'être rejeté), ces sauts varient entre 100 et 114, en associant cette information à un écart-type de 3.11, il a lieu de penser que le nombre de routeurs qui a chaque fois été nécéssaire pour atteindre Google DSN est quasiment resté le même.**\n",
    "\n",
    "**On peut tout aussi bien dire qu'aucune cible n'a été atteinte avec moins de 100 sauts.**"
   ]
  },
  {
   "cell_type": "markdown",
   "id": "06c2ebfa-c429-4bfc-9447-864fcae2593c",
   "metadata": {},
   "source": [
    "## **II.2. Indicateurs de performance réseau**"
   ]
  },
  {
   "cell_type": "markdown",
   "id": "ef5a1f77-4b39-4249-ae3c-dd2ac377315a",
   "metadata": {},
   "source": [
    "Pour calculer le taux de perte de paquets, on compte le nombre total de requêtes envoyées et reçues, puis on fais le rapport"
   ]
  },
  {
   "cell_type": "code",
   "execution_count": 24,
   "id": "ed617106-0662-4f49-846f-3d9d3b6a8252",
   "metadata": {},
   "outputs": [
    {
     "name": "stdout",
     "output_type": "stream",
     "text": [
      "Taux de perte de paquets : 18.075%\n"
     ]
    }
   ],
   "source": [
    "# Le nombre total de requêtes envoyées est donné par la variable vid1+vid2 (qui represente toute la base de données)\n",
    "\n",
    "# Le nombre total de réponses reçues est donné par la variable vid2 (qui represente le nombre de réponses reçues) \n",
    "\n",
    "# Calcul du taux de perte de paquets\n",
    "taux_1 = (vid1/(vid1+vid2)) * 100\n",
    "print(f\"Taux de perte de paquets : {taux_1:.3f}%\")\n"
   ]
  },
  {
   "cell_type": "markdown",
   "id": "bbb0393e-cbac-48e5-aef6-4dec27669a3d",
   "metadata": {},
   "source": [
    "On peut remarquer que 18.075% de paquets ont été perdu, en d'autres termes des ICMP qui n'ont pas ontenu de réponse, ce qui est énorme et révélatrice d'un véritable problème de connexion."
   ]
  },
  {
   "cell_type": "markdown",
   "id": "710c6f64-f86c-4b04-9924-c07eef5bf528",
   "metadata": {},
   "source": [
    "## **II.3. Visualisation initiale**"
   ]
  },
  {
   "cell_type": "markdown",
   "id": "0ae69ff3-acf5-4735-8cc9-cf308901ae85",
   "metadata": {},
   "source": [
    "On transformr d'abord data en dataFrame avant de l'afficher"
   ]
  },
  {
   "cell_type": "code",
   "execution_count": 28,
   "id": "93213fb2-d1fd-4a06-b2e6-ff1e0be41bf2",
   "metadata": {},
   "outputs": [
    {
     "name": "stdout",
     "output_type": "stream",
     "text": [
      "  icmp_seq        time\n",
      "0        0  548.916992\n",
      "1        1  350.260010\n",
      "2        2  530.039978\n",
      "3        3  370.253998\n",
      "4        4  424.649994\n"
     ]
    }
   ],
   "source": [
    "# Import nécessaire\n",
    "import pandas as pd\n",
    "from plotnine import ggplot, aes, geom_line, labs, theme_minimal\n",
    "\n",
    "# Filtrer les données pour que \"time\" ne soit pas vide et convertir en DataFrame Pandas\n",
    "data_filtre = data.filter(col(\"time\").isNotNull()).select(\"icmp_seq\", \"time\").toPandas()\n",
    "\n",
    "# Afficher les premières lignes pour inspection\n",
    "print(data_filtre.head())\n"
   ]
  },
  {
   "cell_type": "code",
   "execution_count": 29,
   "id": "83d6a032-b9ec-42ad-9f53-09231863fd02",
   "metadata": {},
   "outputs": [
    {
     "name": "stderr",
     "output_type": "stream",
     "text": [
      "C:\\Users\\LENOVO\\anaconda3\\Lib\\site-packages\\plotnine\\ggplot.py:610: PlotnineWarning: Saving 6.4 x 4.8 in image.\n",
      "C:\\Users\\LENOVO\\anaconda3\\Lib\\site-packages\\plotnine\\ggplot.py:611: PlotnineWarning: Filename: latence_par_icmp_seq.png\n"
     ]
    },
    {
     "name": "stdout",
     "output_type": "stream",
     "text": [
      "Le graphique a été enregistré sous le nom 'latence_par_icmp_seq.png'.\n",
      "<ggplot: (640 x 480)>\n"
     ]
    }
   ],
   "source": [
    "# S'assurer que les colonnes sont du bon type\n",
    "data_filtre[\"icmp_seq\"] = data_filtre[\"icmp_seq\"].astype(int)\n",
    "data_filtre[\"time\"] = data_filtre[\"time\"].astype(float)\n",
    "\n",
    "# Création du graphique avec ggplot\n",
    "plot = (\n",
    "    ggplot(data_filtre, aes(x=\"icmp_seq\", y=\"time\")) +\n",
    "    geom_line(color=\"blue\", size=1) +  # Tracé de la ligne\n",
    "    labs(\n",
    "        title=\"Courbe des temps de latence par séquence ICMP\",\n",
    "        x=\"Numéro de séquence ICMP\",\n",
    "        y=\"Temps de latence (ms)\"\n",
    "    ) +\n",
    "    theme_minimal()  # Style minimaliste\n",
    ")\n",
    "# Sauvegarde du graphique dans un fichier\n",
    "plot.save(\"latence_par_icmp_seq.png\", dpi=300)\n",
    "\n",
    "# Afficher une confirmation\n",
    "print(\"Le graphique a été enregistré sous le nom 'latence_par_icmp_seq.png'.\")\n",
    "\n",
    "# Afficher le graphique\n",
    "print(plot)\n"
   ]
  },
  {
   "cell_type": "code",
   "execution_count": 30,
   "id": "30f909f0-310a-4bad-998e-17447f4404ae",
   "metadata": {},
   "outputs": [
    {
     "data": {
      "image/png": "[encoded data removed]"
     },
     "metadata": {
      "image/png": {
       "height": 480,
       "width": 640
      }
     },
     "output_type": "display_data"
    }
   ],
   "source": [
    "from plotnine.ggplot import ggplot\n",
    "\n",
    "# Afficher directement dans un notebook Jupyter\n",
    "from IPython.display import display\n",
    "\n",
    "# Réafficher le graphique\n",
    "display(plot)\n"
   ]
  },
  {
   "cell_type": "markdown",
   "id": "6bbd5614-5256-4ec0-9fd1-82406f7d1b3f",
   "metadata": {},
   "source": [
    "Le graphique ci-dessus présente bien la distribution des 65722 réponses obtenues après lancement de 80221 requêtes, on peut soupçonner à quel point l'instabilité du réseau internet est remarquable "
   ]
  },
  {
   "cell_type": "markdown",
   "id": "332e932b-e4f0-4bc1-90d0-225a562ca10e",
   "metadata": {},
   "source": [
    "Entre temps, lorsque les données sont collectées à une fréquence élevée (par exemple, chaque seconde), elles peuvent contenir des fluctuations mineures ou aléatoires qui n'ont pas de signification réelle. En regroupant par 10 secondes, on agrège les mesures, ce qui permet de mieux identifier des tendances globales et de réduire l'impact des variations ponctuelles."
   ]
  },
  {
   "cell_type": "code",
   "execution_count": 33,
   "id": "69e30fac-a92d-44f9-85c3-98391ed936fd",
   "metadata": {},
   "outputs": [
    {
     "name": "stdout",
     "output_type": "stream",
     "text": [
      "   time_group  latence_moyenne\n",
      "0         NaN              NaN\n",
      "1         0.0       208.757199\n",
      "2         1.0       260.506321\n",
      "3         2.0       276.247232\n",
      "4         3.0       302.182616\n"
     ]
    }
   ],
   "source": [
    "from pyspark.sql.functions import floor\n",
    "\n",
    "# Ajouter une colonne pour grouper les données par intervalles de 10 secondes\n",
    "data_grouped = data.withColumn(\"time_group\", (col(\"icmp_seq\") / 10).cast(\"int\"))\n",
    "\n",
    "# Calculer la latence moyenne pour chaque groupe de 10 secondes\n",
    "grouped_latency = data_grouped.groupBy(\"time_group\").agg({\"time\": \"avg\"}).withColumnRenamed(\"avg(time)\", \"latence_moyenne\")\n",
    "\n",
    "# Trier les groupes pour afficher correctement les résultats\n",
    "grouped_latency = grouped_latency.orderBy(\"time_group\")\n",
    "\n",
    "# Convertir en Pandas DataFrame pour la visualisation\n",
    "grouped_latency_df = grouped_latency.toPandas()\n",
    "\n",
    "# Afficher les premières lignes des données regroupées\n",
    "print(grouped_latency_df.head())\n"
   ]
  },
  {
   "cell_type": "code",
   "execution_count": 34,
   "id": "cee54f7b-910e-4df9-84aa-254acf346a27",
   "metadata": {},
   "outputs": [
    {
     "name": "stdout",
     "output_type": "stream",
     "text": [
      "<ggplot: (640 x 480)>\n"
     ]
    },
    {
     "name": "stderr",
     "output_type": "stream",
     "text": [
      "C:\\Users\\LENOVO\\anaconda3\\Lib\\site-packages\\plotnine\\ggplot.py:610: PlotnineWarning: Saving 6.4 x 4.8 in image.\n",
      "C:\\Users\\LENOVO\\anaconda3\\Lib\\site-packages\\plotnine\\ggplot.py:611: PlotnineWarning: Filename: latence_moyenne_par_10_secondes.png\n",
      "C:\\Users\\LENOVO\\anaconda3\\Lib\\site-packages\\plotnine\\geoms\\geom_path.py:99: PlotnineWarning: geom_path: Removed 1 rows containing missing values.\n"
     ]
    }
   ],
   "source": [
    "from plotnine import ggplot, aes, geom_line, labs, theme_minimal\n",
    "\n",
    "# Création du graphique avec ggplot\n",
    "plot_grouped = (\n",
    "    ggplot(grouped_latency_df, aes(x=\"time_group\", y=\"latence_moyenne\")) +\n",
    "    geom_line(color=\"blue\", size=1) +  # Tracé de la ligne\n",
    "    labs(\n",
    "        title=\"Courbe des latences moyennes par groupe de 10 secondes\",\n",
    "        x=\"Groupe de 10 secondes\",\n",
    "        y=\"Latence moyenne (ms)\"\n",
    "    ) +\n",
    "    theme_minimal()  # Style minimaliste\n",
    ")\n",
    "\n",
    "# Afficher le graphique\n",
    "print(plot_grouped)\n",
    "plot_grouped.save(\"latence_moyenne_par_10_secondes.png\", dpi=300)\n"
   ]
  },
  {
   "cell_type": "code",
   "execution_count": 35,
   "id": "60ea7f51-6fa6-47d8-b89c-d294468bcd99",
   "metadata": {},
   "outputs": [
    {
     "name": "stderr",
     "output_type": "stream",
     "text": [
      "C:\\Users\\LENOVO\\anaconda3\\Lib\\site-packages\\plotnine\\geoms\\geom_path.py:99: PlotnineWarning: geom_path: Removed 1 rows containing missing values.\n"
     ]
    },
    {
     "data": {
      "image/png": "[encoded data removed]"
     },
     "metadata": {
      "image/png": {
       "height": 480,
       "width": 640
      }
     },
     "output_type": "display_data"
    }
   ],
   "source": [
    "from plotnine.ggplot import ggplot\n",
    "\n",
    "# Afficher directement dans un notebook Jupyter\n",
    "from IPython.display import display\n",
    "\n",
    "# Réafficher le graphique\n",
    "display(plot_grouped)"
   ]
  },
  {
   "cell_type": "markdown",
   "id": "2d925b07-893d-4578-9459-de8c019d02d7",
   "metadata": {},
   "source": [
    "La conclusion est la même, instabilité élevée"
   ]
  },
  {
   "cell_type": "markdown",
   "id": "09ba23bc-c437-4388-842a-11a9e4f87dbf",
   "metadata": {},
   "source": [
    "# **C'est ici que commence le calcul d'indicateurs supplémentaire :**"
   ]
  },
  {
   "cell_type": "markdown",
   "id": "f3d797d8-1da3-4628-b51c-0af84231b59c",
   "metadata": {},
   "source": [
    "# Calcul de la gigue"
   ]
  },
  {
   "cell_type": "markdown",
   "id": "4f03511e-71e3-40af-b043-9baed6b94e1d",
   "metadata": {},
   "source": [
    "Nous avons penser à mettre en place deux bases de données .text à partir de la base source, la base \"ligne i.text\" et la base \"ligne i-1.text\", l'objectif est d'avoir deux colonne, l'une prendra la ligne i et l'autre la ligne i-1, ceci afin de faire la différence en parallèle entre la ligne i et la ligne i-1. Au lieu de faire ce travail sur une seule colonne, ce qui risquerait de faire échouer les calculs. pour cela, nous avons supprimé la première ligne dans la base \"ligne i\" et nous avons supprimé la dernière ligne dans la base \"ligne i-1\""
   ]
  },
  {
   "cell_type": "markdown",
   "id": "96fb61ac-92bd-4b9f-a4bc-4b7dc9edb402",
   "metadata": {},
   "source": [
    "## - Importation des deux bases ligne i et ligne i-1"
   ]
  },
  {
   "cell_type": "code",
   "execution_count": 5,
   "id": "d7015752-90b4-49ec-81de-26e1023028e7",
   "metadata": {},
   "outputs": [
    {
     "name": "stdout",
     "output_type": "stream",
     "text": [
      "+--------------------+-----+--------+---+------+\n",
      "|               value|bytes|icmp_seq|ttl|time_i|\n",
      "+--------------------+-----+--------+---+------+\n",
      "|64 bytes from 8.8...|   64|       1|105|350.26|\n",
      "|64 bytes from 8.8...|   64|       2|105|530.04|\n",
      "+--------------------+-----+--------+---+------+\n",
      "only showing top 2 rows\n",
      "\n"
     ]
    }
   ],
   "source": [
    "path_i = \"Data.txt\"\n",
    "df_i = spark.read.text(path_i)\n",
    "# Extraction des variables pertinentes\n",
    "df_i = df_i.withColumn(\"bytes\", regexp_extract(col(\"value\"), r\"(\\d+) bytes\", 1)) \\\n",
    "               .withColumn(\"icmp_seq\", regexp_extract(col(\"value\"), r\"icmp_seq=(\\d+)\", 1)) \\\n",
    "               .withColumn(\"ttl\", regexp_extract(col(\"value\"), r\"ttl=(\\d+)\", 1)) \\\n",
    "               .withColumn(\"time_i\", regexp_extract(col(\"value\"), r\"time=(\\d+\\.?\\d*)\", 1).cast(\"float\"))\n",
    "\n",
    "# Affichage des données extraites\n",
    "df_i.show(2)\n"
   ]
  },
  {
   "cell_type": "code",
   "execution_count": 6,
   "id": "54fc78f0-4dc3-4cba-9cba-eed414f51476",
   "metadata": {},
   "outputs": [
    {
     "name": "stdout",
     "output_type": "stream",
     "text": [
      "+--------------------+-----+--------+---+--------+\n",
      "|               value|bytes|icmp_seq|ttl|time_i_1|\n",
      "+--------------------+-----+--------+---+--------+\n",
      "|64 bytes from 8.8...|   64|       0|105| 548.917|\n",
      "|64 bytes from 8.8...|   64|       1|105|  350.26|\n",
      "+--------------------+-----+--------+---+--------+\n",
      "only showing top 2 rows\n",
      "\n"
     ]
    }
   ],
   "source": [
    "path_i_1 = \"Dataset.txt\"\n",
    "df_i_1 = spark.read.text(path_i_1)\n",
    "# Extraction des variables pertinentes\n",
    "df_i_1 = df_i_1.withColumn(\"bytes\", regexp_extract(col(\"value\"), r\"(\\d+) bytes\", 1)) \\\n",
    "               .withColumn(\"icmp_seq\", regexp_extract(col(\"value\"), r\"icmp_seq=(\\d+)\", 1)) \\\n",
    "               .withColumn(\"ttl\", regexp_extract(col(\"value\"), r\"ttl=(\\d+)\", 1)) \\\n",
    "               .withColumn(\"time_i_1\", regexp_extract(col(\"value\"), r\"time=(\\d+\\.?\\d*)\", 1).cast(\"float\"))\n",
    "\n",
    "# Affichage des données extraites\n",
    "df_i_1.show(2)"
   ]
  },
  {
   "cell_type": "markdown",
   "id": "f84552c7-c752-40ea-8690-273fe6fa9973",
   "metadata": {},
   "source": [
    "## On va indexer les deux base pour faire la jointure, ceci afin de mettre les deux variables time_i et time_i_1 ensemble"
   ]
  },
  {
   "cell_type": "code",
   "execution_count": 8,
   "id": "c84af43b-bb1b-43b8-85b0-70c1866db91e",
   "metadata": {},
   "outputs": [
    {
     "name": "stdout",
     "output_type": "stream",
     "text": [
      "+--------------------+-----+--------+---+-------+-----+\n",
      "|               value|bytes|icmp_seq|ttl| time_i|index|\n",
      "+--------------------+-----+--------+---+-------+-----+\n",
      "|64 bytes from 8.8...|   64|       1|105| 350.26|    0|\n",
      "|64 bytes from 8.8...|   64|       2|105| 530.04|    1|\n",
      "|64 bytes from 8.8...|   64|       3|105|370.254|    2|\n",
      "|64 bytes from 8.8...|   64|       4|105| 424.65|    3|\n",
      "|64 bytes from 8.8...|   64|       5|105|142.222|    4|\n",
      "+--------------------+-----+--------+---+-------+-----+\n",
      "only showing top 5 rows\n",
      "\n",
      "+--------------------+-----+--------+---+--------+\n",
      "|               value|bytes|icmp_seq|ttl|time_i_1|\n",
      "+--------------------+-----+--------+---+--------+\n",
      "|64 bytes from 8.8...|   64|       0|105| 548.917|\n",
      "|64 bytes from 8.8...|   64|       1|105|  350.26|\n",
      "|64 bytes from 8.8...|   64|       2|105|  530.04|\n",
      "|64 bytes from 8.8...|   64|       3|105| 370.254|\n",
      "|64 bytes from 8.8...|   64|       4|105|  424.65|\n",
      "+--------------------+-----+--------+---+--------+\n",
      "only showing top 5 rows\n",
      "\n"
     ]
    }
   ],
   "source": [
    "from pyspark.sql.functions import monotonically_increasing_id\n",
    "\n",
    "# Ajouter une colonne 'index' unique à df_i_1\n",
    "df_i_1_ = df_i_1.withColumn(\"index\", monotonically_increasing_id())\n",
    "df_i_ = df_i.withColumn(\"index\", monotonically_increasing_id())\n",
    "df_i_.show(5)\n",
    "df_i_1.show(5)"
   ]
  },
  {
   "cell_type": "markdown",
   "id": "b1a5daa7-c548-4b08-991f-3212f852a9aa",
   "metadata": {},
   "source": [
    "# Jointure sur l'index"
   ]
  },
  {
   "cell_type": "code",
   "execution_count": 9,
   "id": "3a1aaf08-f24a-4791-9dab-fa24ad4d99e1",
   "metadata": {},
   "outputs": [
    {
     "name": "stdout",
     "output_type": "stream",
     "text": [
      "+-----+--------------------+-----+--------+---+--------+--------------------+-----+--------+---+-------+\n",
      "|index|               value|bytes|icmp_seq|ttl|time_i_1|               value|bytes|icmp_seq|ttl| time_i|\n",
      "+-----+--------------------+-----+--------+---+--------+--------------------+-----+--------+---+-------+\n",
      "|    0|64 bytes from 8.8...|   64|       0|105| 548.917|64 bytes from 8.8...|   64|       1|105| 350.26|\n",
      "|    1|64 bytes from 8.8...|   64|       1|105|  350.26|64 bytes from 8.8...|   64|       2|105| 530.04|\n",
      "|    2|64 bytes from 8.8...|   64|       2|105|  530.04|64 bytes from 8.8...|   64|       3|105|370.254|\n",
      "|    3|64 bytes from 8.8...|   64|       3|105| 370.254|64 bytes from 8.8...|   64|       4|105| 424.65|\n",
      "|    4|64 bytes from 8.8...|   64|       4|105|  424.65|64 bytes from 8.8...|   64|       5|105|142.222|\n",
      "+-----+--------------------+-----+--------+---+--------+--------------------+-----+--------+---+-------+\n",
      "only showing top 5 rows\n",
      "\n"
     ]
    }
   ],
   "source": [
    "# Effectuer la jointure sur la colonne 'product_id'\n",
    "df_ajout = df_i_1_.join(df_i_, on=\"index\", how=\"left\")\n",
    "df_ajout=df_ajout.orderBy(col(\"index\"))\n",
    "\n",
    "# Afficher le résultat\n",
    "df_ajout.show(5)"
   ]
  },
  {
   "cell_type": "markdown",
   "id": "25ff5313-e811-4ea4-a4da-278deedd6f4f",
   "metadata": {},
   "source": [
    "## Variation du délai moyen (MPPDV : Mean Packet to Packet Delay Variation ) : en RFC 4689 (Poretsky et al., 2006), IETF présente la gigue comme la moyenne de la valeur absolue de la mesure IPDV. "
   ]
  },
  {
   "cell_type": "code",
   "execution_count": 10,
   "id": "ab0f8968-64d1-4f1a-95e7-b1226521a564",
   "metadata": {},
   "outputs": [
    {
     "name": "stdout",
     "output_type": "stream",
     "text": [
      "+-----+--------------------+-----+--------+---+--------+--------------------+-----+--------+---+-------+---------+\n",
      "|index|               value|bytes|icmp_seq|ttl|time_i_1|               value|bytes|icmp_seq|ttl| time_i|time_diff|\n",
      "+-----+--------------------+-----+--------+---+--------+--------------------+-----+--------+---+-------+---------+\n",
      "|    0|64 bytes from 8.8...|   64|       0|105| 548.917|64 bytes from 8.8...|   64|       1|105| 350.26|198.65698|\n",
      "|    1|64 bytes from 8.8...|   64|       1|105|  350.26|64 bytes from 8.8...|   64|       2|105| 530.04|179.77997|\n",
      "|    2|64 bytes from 8.8...|   64|       2|105|  530.04|64 bytes from 8.8...|   64|       3|105|370.254|159.78598|\n",
      "|    3|64 bytes from 8.8...|   64|       3|105| 370.254|64 bytes from 8.8...|   64|       4|105| 424.65|54.395996|\n",
      "|    4|64 bytes from 8.8...|   64|       4|105|  424.65|64 bytes from 8.8...|   64|       5|105|142.222|282.42798|\n",
      "+-----+--------------------+-----+--------+---+--------+--------------------+-----+--------+---+-------+---------+\n",
      "only showing top 5 rows\n",
      "\n"
     ]
    }
   ],
   "source": [
    "from pyspark.sql.functions import abs, col\n",
    "\n",
    "# Ajouter une nouvelle colonne 'time_diff' pour la différence absolue entre 'time_i' et 'time_i_1'\n",
    "df_ajout = df_ajout.withColumn(\"time_diff\", abs(col(\"time_i\") - col(\"time_i_1\")))\n",
    "# Afficher le résultat\n",
    "df_ajout.show(5)\n"
   ]
  },
  {
   "cell_type": "markdown",
   "id": "6021373c-a604-441c-b006-10c9a47ba87d",
   "metadata": {},
   "source": [
    "Calcul de la gigue qui est la moyenne de la valeur absolue des différences"
   ]
  },
  {
   "cell_type": "code",
   "execution_count": 11,
   "id": "264bf711-b9f0-4d57-b5e9-ac1e3d9ac131",
   "metadata": {},
   "outputs": [
    {
     "name": "stdout",
     "output_type": "stream",
     "text": [
      "La moyenne de 'time_diff' est : 500.1217974368544\n"
     ]
    }
   ],
   "source": [
    "from pyspark.sql.functions import avg\n",
    "# Supprimer les lignes où la colonne 'time' est NULL\n",
    "data_filtre = df_ajout.filter(df_ajout[\"time_diff\"].isNotNull())\n",
    "# Calculer la moyenne de la colonne 'time_diff'\n",
    "moyenne_time_diff = data_filtre.agg(avg(\"time_diff\")).collect()[0][0]\n",
    "\n",
    "# Afficher la moyenne\n",
    "print(f\"La moyenne de 'time_diff' est : {moyenne_time_diff}\")"
   ]
  },
  {
   "cell_type": "markdown",
   "id": "8fdf5233-9f1a-408e-a760-3052a4c0fe6a",
   "metadata": {},
   "source": [
    "D'après https://www.iptis.fr/blog/comprendre-la-qualite-de-sa-connexion-internet, une bonne gigue est d'une valeur inférieur à 20ms, ici la gigne est de 500.122, ce qui est largement supérieur à 20ms, on peut donc dire que le délai entre les paquets de données varie de manière significative, une gigue de 500.122 ms pourrait entraîner des délais importants avant de recevoir une réponse. Cela montre que la navigation sur internet peut devenir très lente, ceci à cause d'une grande fluctuation dans le temps que met chaque paquet pour parcourir le réseau, avec des variations allant de 0 à 500 ms"
   ]
  },
  {
   "cell_type": "markdown",
   "id": "26def7aa-560c-45a5-b1d1-8f70494623c5",
   "metadata": {},
   "source": [
    "# Méthode de calcul manuel de la moyenne"
   ]
  },
  {
   "cell_type": "code",
   "execution_count": 53,
   "id": "d9453b6c-5892-40f5-9e49-f5a78f6d97f5",
   "metadata": {},
   "outputs": [
    {
     "name": "stdout",
     "output_type": "stream",
     "text": [
      "La moyenne de 'time_diff' est : 500.1217974368544\n"
     ]
    }
   ],
   "source": [
    "from pyspark.sql.functions import col, sum, count\n",
    "\n",
    "# Filtrer les valeurs non nulles\n",
    "data_filtre = df_ajout.filter(col(\"time_diff\").isNotNull())\n",
    "# Calculer la somme des valeurs de 'time_diff'\n",
    "somme_time_diff = data_filtre.agg(sum(\"time_diff\")).collect()[0][0]\n",
    "\n",
    "# Calculer le nombre de valeurs non nulles\n",
    "nb_valeurs = data_filtre.agg(count(\"time_diff\")).collect()[0][0]\n",
    "# Calculer la moyenne manuellement\n",
    "moyenne_time_diff = somme_time_diff / nb_valeurs\n",
    "\n",
    "# Afficher la moyenne\n",
    "print(f\"La moyenne de 'time_diff' est : {moyenne_time_diff}\")\n"
   ]
  },
  {
   "cell_type": "markdown",
   "id": "20f8cb1f-4d49-4d12-9fd4-65196dc042bc",
   "metadata": {},
   "source": [
    "# Calcul des fréquences d'apparition des ttl"
   ]
  },
  {
   "cell_type": "code",
   "execution_count": 55,
   "id": "d4b32e2b-a141-4115-baea-8a25a60df5d4",
   "metadata": {},
   "outputs": [],
   "source": [
    "# Supprimer les lignes où la colonne 'time' est NULL\n",
    "data_filtre = data.filter(data[\"time\"].isNotNull())"
   ]
  },
  {
   "cell_type": "code",
   "execution_count": 56,
   "id": "dd369ab5-c794-4638-9e51-57c8c29abf5b",
   "metadata": {},
   "outputs": [
    {
     "name": "stdout",
     "output_type": "stream",
     "text": [
      "+---+-----+\n",
      "|ttl|count|\n",
      "+---+-----+\n",
      "|110|  730|\n",
      "|100|   61|\n",
      "|103|  190|\n",
      "|114|52883|\n",
      "|105| 7810|\n",
      "|109| 4048|\n",
      "+---+-----+\n",
      "\n"
     ]
    }
   ],
   "source": [
    "from pyspark.sql import functions as F\n",
    "\n",
    "# Supprimer les lignes où 'ttl' est NULL\n",
    "df_filtered = data_filtre.filter(data_filtre[\"ttl\"].isNotNull())\n",
    "\n",
    "# Compter les occurrences de 'ttl' après suppression des NULLs\n",
    "df_count = df_filtered.groupBy(\"ttl\").agg(F.count(\"ttl\").alias(\"count\"))\n",
    "\n",
    "# Afficher le résultat\n",
    "df_count.show()"
   ]
  },
  {
   "cell_type": "code",
   "execution_count": 57,
   "id": "e292eacc-89b6-48d2-9310-1618c6227d6e",
   "metadata": {},
   "outputs": [
    {
     "name": "stdout",
     "output_type": "stream",
     "text": [
      "+---+-----+-------------------+\n",
      "|ttl|count|          frequency|\n",
      "+---+-----+-------------------+\n",
      "|110|  730| 1.1107391740969539|\n",
      "|100|   61|0.09281519126015642|\n",
      "|103|  190| 0.2890964973677003|\n",
      "|114|52883|  80.46468458050576|\n",
      "|105| 7810| 11.883387602324945|\n",
      "|109| 4048|  6.159276954444478|\n",
      "+---+-----+-------------------+\n",
      "\n"
     ]
    }
   ],
   "source": [
    "from pyspark.sql import functions as F\n",
    "\n",
    "# Compter les occurrences de 'ttl'\n",
    "df_count = data_filtre.groupBy(\"ttl\").agg(F.count(\"ttl\").alias(\"count\"))\n",
    "\n",
    "# Calculer la fréquence\n",
    "total_count = data_filtre.count()  # Nombre total de lignes\n",
    "df_count = df_count.withColumn(\"frequency\", df_count[\"count\"] *100/ total_count)\n",
    "\n",
    "# Afficher le résultat\n",
    "df_count.show()"
   ]
  },
  {
   "cell_type": "markdown",
   "id": "c74ed157-3fc5-4738-b536-44a5787c6487",
   "metadata": {},
   "source": [
    "La majorité des paquets prennent un chemin impliquant 114 sauts. Cela suggère que le routage suit un chemin long et relativement constant pour la majorité des requêtes (80.46%). Le reste des paquets emprunte des chemins alternatifs avec moins de sauts.L'écart entre les TTL (de 100 à 114) peut dtraduire des variations fréquentes potentiellement causés par des problèmes de réseau ou une optimisation dynamique par les routeurs."
   ]
  },
  {
   "cell_type": "code",
   "execution_count": null,
   "id": "7245f76d-ce0b-4d55-916e-5b9b7717cf79",
   "metadata": {},
   "outputs": [],
   "source": []
  },
  {
   "cell_type": "code",
   "execution_count": null,
   "id": "b0df3957-5e62-47ef-89a2-7c701a958ebe",
   "metadata": {},
   "outputs": [],
   "source": []
  },
  {
   "cell_type": "code",
   "execution_count": null,
   "id": "89f60f8d-ed4d-48a1-b47b-56006ac0916f",
   "metadata": {},
   "outputs": [],
   "source": []
  }
 ],
 "metadata": {
  "kernelspec": {
   "display_name": "base",
   "language": "python",
   "name": "python3"
  },
  "language_info": {
   "codemirror_mode": {
    "name": "ipython",
    "version": 3
   },
   "file_extension": ".py",
   "mimetype": "text/x-python",
   "name": "python",
   "nbconvert_exporter": "python",
   "pygments_lexer": "ipython3",
   "version": "3.9.13"
  }
 },
 "nbformat": 4,
 "nbformat_minor": 5
}
